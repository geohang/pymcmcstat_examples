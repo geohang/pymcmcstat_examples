{
 "cells": [
  {
   "cell_type": "markdown",
   "metadata": {},
   "source": [
    "<form action=\"index.ipynb\">\n",
    "    <input type=\"submit\" value=\"Return to Index\" style=\"background-color: green; color: white; width: 150px; height: 35px; float: right\"/>\n",
    "</form>\n",
    "\n",
    "# Utilizing the Prior Function\n",
    "\n",
    "Author(s): Paul Miles | Date Created: July 19, 2019\n",
    "\n",
    "When using [pymcmcstat](https://github.com/prmiles/pymcmcstat/wiki) the user can specify the prior function.  The package by default assumes uniform prior distributions.  This is recommended as it prevents introducing any form of bias into your sampling.  However, in many cases information is known _a priori_ about a particular parameter.  This knowledge may come from an expert or from other experimental study.  The user can enforce this information by defining the prior mean and standard deviation when initializing the parameter.  Furthermore, a custom prior function can be defined, although this should be used with caution.  This tutorial will outline how to define a prior distribution and also how to use a custom prior function in order to enforce non-linear parameter constraints."
   ]
  },
  {
   "cell_type": "code",
   "execution_count": 1,
   "metadata": {},
   "outputs": [
    {
     "name": "stdout",
     "output_type": "stream",
     "text": [
      "1.9.0\n"
     ]
    }
   ],
   "source": [
    "# import required packages\n",
    "from pymcmcstat.MCMC import MCMC\n",
    "import numpy as np\n",
    "import mcmcplot.mcmatplot as mcpl\n",
    "import matplotlib.pyplot as plt\n",
    "from scipy.stats import norm\n",
    "import pymcmcstat\n",
    "print(pymcmcstat.__version__)\n",
    "np.seterr(over='ignore');"
   ]
  },
  {
   "cell_type": "markdown",
   "metadata": {},
   "source": [
    "# Define Model and Sum-of-Squares Functions"
   ]
  },
  {
   "cell_type": "code",
   "execution_count": 2,
   "metadata": {},
   "outputs": [],
   "source": [
    "# define test model function\n",
    "def modelfun(xdata, theta):\n",
    "    m = theta[0]\n",
    "    b = theta[1]\n",
    "    nrow, ncol = xdata.shape\n",
    "    y = np.zeros([nrow, 1])\n",
    "    y[:,0] = m*xdata.reshape(nrow,) + b\n",
    "    return y\n",
    "\n",
    "def test_ssfun(theta, data):\n",
    "    xdata = data.xdata[0]\n",
    "    ydata = data.ydata[0]\n",
    "    # eval model\n",
    "    ymodel = modelfun(xdata, theta)\n",
    "    # calc sos\n",
    "    ss = sum((ymodel[:, 0] - ydata[:, 0])**2)\n",
    "    return ss"
   ]
  },
  {
   "cell_type": "markdown",
   "metadata": {},
   "source": [
    "## Define Test Data Set - Plot\n",
    "We define our test data set, then plot the data and model response.  We also plot the residual to check the validity of our statistical model."
   ]
  },
  {
   "cell_type": "code",
   "execution_count": 4,
   "metadata": {},
   "outputs": [
    {
     "data": {
      "image/png": "[encoded data removed]",
      "text/plain": [
       "<Figure size 576x288 with 2 Axes>"
      ]
     },
     "metadata": {
      "needs_background": "light"
     },
     "output_type": "display_data"
    }
   ],
   "source": [
    "nds = 100\n",
    "m = 2\n",
    "b = 3\n",
    "x = np.linspace(2, 3, num=nds).reshape(nds, 1)\n",
    "y = m*x + b + 0.1*np.random.standard_normal(x.shape)\n",
    "res = y - modelfun(x, [m, b])\n",
    "plt.figure(figsize=(8,4))\n",
    "plt.subplot(1, 2, 1)\n",
    "plt.plot(x, y, '.b');\n",
    "plt.plot(x, modelfun(x, [m, b]), '-r', linewidth=3);\n",
    "plt.xlabel('x'); plt.ylabel('y');\n",
    "plt.subplot(1, 2, 2)\n",
    "plt.plot(x, res, '.g');\n",
    "mr = res.mean()\n",
    "plt.plot([x[0], x[-1]], [mr, mr], '-k', linewidth=3)\n",
    "plt.xlabel('x')\n",
    "plt.ylabel(str('Residual, ($\\\\mu$ = {:5.4e})'.format(mr)));\n",
    "plt.tight_layout()"
   ]
  },
  {
   "cell_type": "markdown",
   "metadata": {},
   "source": [
    "# Run MCMC Simulation With Normal Prior Distribution\n",
    "Suppose we have prior knowledge that the slope has a mean value of 2 and a standard deviation of 0.25.  We can apply this knowledge when initializing the parameter.\n",
    "\n",
    "## Initialize MCMC Object and Setup Simulation\n",
    "- Note how the `prior_mu` and `prior_sigma` arguments are defined when initializing `m`."
   ]
  },
  {
   "cell_type": "code",
   "execution_count": 5,
   "metadata": {},
   "outputs": [],
   "source": [
    "mcstat = MCMC()\n",
    "# Add data\n",
    "mcstat.data.add_data_set(x, y)\n",
    "# Define simulation options and model settings\n",
    "mcstat.simulation_options.define_simulation_options(\n",
    "    nsimu=int(5.0e4),\n",
    "    updatesigma=True)\n",
    "mcstat.model_settings.define_model_settings(sos_function=test_ssfun)\n",
    "# Define model parameters\n",
    "mcstat.parameters.add_model_parameter(\n",
    "    name='m',\n",
    "    theta0=2.0,\n",
    "    prior_mu=2,\n",
    "    prior_sigma=0.05)\n",
    "mcstat.parameters.add_model_parameter(\n",
    "    name='b',\n",
    "    theta0=2.0)"
   ]
  },
  {
   "cell_type": "markdown",
   "metadata": {},
   "source": [
    "## Run Simulation"
   ]
  },
  {
   "cell_type": "code",
   "execution_count": 6,
   "metadata": {},
   "outputs": [
    {
     "name": "stdout",
     "output_type": "stream",
     "text": [
      "\n",
      "Sampling these parameters:\n",
      "      name      start [      min,       max] N(       mu,   sigma^2)\n",
      "         m:      2.00 [     -inf,       inf] N(     2.00,     0.05^2)\n",
      "         b:      2.00 [     -inf,       inf] N( 0.00e+00,      inf)\n",
      " [-----------------100%-----------------] 50000 of 50000 complete in 10.9 sec\n",
      "\n",
      "------------------------------\n",
      "name      :       mean        std     MC_err        tau     geweke\n",
      "m         :     2.0231     0.0275     0.0005     8.4820     0.9997\n",
      "b         :     2.9459     0.0696     0.0014     8.3792     0.9996\n",
      "------------------------------\n",
      "==============================\n",
      "Acceptance rate information\n",
      "---------------\n",
      "Results dictionary:\n",
      "Stage 1: 20.74%\n",
      "Stage 2: 53.89%\n",
      "Net    : 74.63% -> 37316/50000\n",
      "---------------\n",
      "Chain provided:\n",
      "Net    : 80.56% -> 20140/25000\n",
      "---------------\n",
      "Note, the net acceptance rate from the results dictionary\n",
      "may be different if you only provided a subset of the chain,\n",
      "e.g., removed the first part for burnin-in.\n",
      "------------------------------\n"
     ]
    }
   ],
   "source": [
    "mcstat.run_simulation()\n",
    "# Extract results\n",
    "results = mcstat.simulation_results.results\n",
    "chain = results['chain']\n",
    "names = results['names']\n",
    "# define burnin\n",
    "burnin = int(results['nsimu']/2)\n",
    "# display chain statistics\n",
    "mcstat.chainstats(chain[burnin:, :], results)"
   ]
  },
  {
   "cell_type": "code",
   "execution_count": 9,
   "metadata": {},
   "outputs": [
    {
     "data": {
      "image/png": "[encoded data removed]",
      "text/plain": [
       "<Figure size 500x400 with 2 Axes>"
      ]
     },
     "metadata": {
      "needs_background": "light"
     },
     "output_type": "display_data"
    }
   ],
   "source": [
    "from pymcmcstat import mcmcplot as mcp\n",
    "figs = mcp.plot_density_panel(chains=chain[burnin:, :],\n",
    "                                   names=names)"
   ]
  },
  {
   "cell_type": "markdown",
   "metadata": {},
   "source": [
    "## Discussion\n",
    "We see from the posterior densities and displayed statistics, that the distribution for `m` is narrower than what was defined in the prior distribution.  This is not unexpected as we have provided new data to inform that parameter value.  The prior distribution was very narrow, which can potentially lead to bias.  In general, using a non-informative prior (uniform) is the recommended procedure; however, there are many real problems that may require using narrow priors."
   ]
  },
  {
   "cell_type": "markdown",
   "metadata": {},
   "source": [
    "# Run MCMC Simulation with Custom Prior Function\n",
    "We can define a custom prior function to enforce non-linear parameter constraints.  This approach should be used with caution as it is not applicable or practicle for every problem."
   ]
  },
  {
   "cell_type": "markdown",
   "metadata": {},
   "source": [
    "## Define Custom Prior Function\n",
    "The default prior function inside [pymcmcstat](https://prmiles.wordpress.ncsu.edu/codes/python-packages/pymcmcstat/) is\n",
    "```python\n",
    "def default_priorfun(theta, mu, sigma):\n",
    "    res = (mu - theta)/sigma\n",
    "    pf = np.dot(res.reshape(1,res.size), res.reshape(res.size,1))\n",
    "    return pf\n",
    "```\n",
    "Mathematically, what this function is calculating is actually the arguments in large parantheses in the exponential function.\n",
    "$$\n",
    "\\pi_0(\\theta) = \\exp\\Big[-\\frac{1}{2}\\Big(\\frac{(\\mu - \\theta)^2}{\\sigma^2}\\Big)\\Big]\n",
    "$$\n",
    "The argument is evaluated in the exponential function when calculating the acceptance ratio in the Metropolis algorithm.  Note, a uniform prior function corresponds to the case where $\\sigma = \\infty$, which is the default.  You can observe this when running the simulation and displaying the initial parameter settings.\n",
    "\n",
    "In defining a custom prior function, we still want the same basic behavior as the default.  For example, if we expect both model parameters to have the same sign, then we can define a custom prior function as follows:"
   ]
  },
  {
   "cell_type": "code",
   "execution_count": 10,
   "metadata": {},
   "outputs": [],
   "source": [
    "def test_priorfun(theta, mu, sigma):\n",
    "    if theta[1]*theta[0] < 0:\n",
    "        return np.array([np.inf])\n",
    "    else:\n",
    "        res = (mu - theta)/sigma\n",
    "        return np.dot(res.reshape(1, res.size),\n",
    "                      res.reshape(res.size, 1))"
   ]
  },
  {
   "cell_type": "markdown",
   "metadata": {},
   "source": [
    "## Initialize MCMC Object and Setup Simulation\n",
    "- Assign custom prior function when defining the model settings."
   ]
  },
  {
   "cell_type": "code",
   "execution_count": 11,
   "metadata": {},
   "outputs": [],
   "source": [
    "mcstat = MCMC()\n",
    "# Add data\n",
    "mcstat.data.add_data_set(x, y)\n",
    "# Define simulation options and model settings\n",
    "mcstat.simulation_options.define_simulation_options(\n",
    "    nsimu=int(5.0e4),\n",
    "    updatesigma=True)\n",
    "mcstat.model_settings.define_model_settings(sos_function=test_ssfun,\n",
    "                                            prior_function=test_priorfun)\n",
    "# Define model parameters\n",
    "mcstat.parameters.add_model_parameter(\n",
    "    name='m',\n",
    "    theta0=2.0,\n",
    "    prior_mu=2,\n",
    "    prior_sigma=0.05)\n",
    "mcstat.parameters.add_model_parameter(\n",
    "    name='b',\n",
    "    theta0=2.0)"
   ]
  },
  {
   "cell_type": "markdown",
   "metadata": {},
   "source": [
    "## Run Simulation"
   ]
  },
  {
   "cell_type": "code",
   "execution_count": 12,
   "metadata": {},
   "outputs": [
    {
     "name": "stdout",
     "output_type": "stream",
     "text": [
      "\n",
      "Sampling these parameters:\n",
      "      name      start [      min,       max] N(       mu,   sigma^2)\n",
      "         m:      2.00 [     -inf,       inf] N(     2.00,     0.05^2)\n",
      "         b:      2.00 [     -inf,       inf] N( 0.00e+00,      inf)\n",
      " [-----------------100%-----------------] 50000 of 50000 complete in 10.8 sec\n",
      "\n",
      "------------------------------\n",
      "name      :       mean        std     MC_err        tau     geweke\n",
      "m         :     2.0235     0.0279     0.0005     8.2884     0.9998\n",
      "b         :     2.9451     0.0705     0.0014     8.1521     0.9995\n",
      "------------------------------\n",
      "==============================\n",
      "Acceptance rate information\n",
      "---------------\n",
      "Results dictionary:\n",
      "Stage 1: 22.26%\n",
      "Stage 2: 53.58%\n",
      "Net    : 75.83% -> 37917/50000\n",
      "---------------\n",
      "Chain provided:\n",
      "Net    : 81.21% -> 20302/25000\n",
      "---------------\n",
      "Note, the net acceptance rate from the results dictionary\n",
      "may be different if you only provided a subset of the chain,\n",
      "e.g., removed the first part for burnin-in.\n",
      "------------------------------\n"
     ]
    }
   ],
   "source": [
    "mcstat.run_simulation()\n",
    "# Extract results\n",
    "results = mcstat.simulation_results.results\n",
    "chain = results['chain']\n",
    "names = results['names']\n",
    "# define burnin\n",
    "burnin = int(results['nsimu']/2)\n",
    "# display chain statistics\n",
    "mcstat.chainstats(chain[burnin:, :], results)"
   ]
  },
  {
   "cell_type": "markdown",
   "metadata": {},
   "source": [
    "## Check If Prior Function Worked\n",
    "If the prior function worked properly, then we should find that no rows in the chain break the prior conditions.  In this case, we check that the parameters always have the same sign.  If any row  didn't satisfy this requirement, than we would expect the summation of this logical vector to be nonzero."
   ]
  },
  {
   "cell_type": "code",
   "execution_count": 13,
   "metadata": {},
   "outputs": [
    {
     "name": "stdout",
     "output_type": "stream",
     "text": [
      "0\n"
     ]
    }
   ],
   "source": [
    "tmp = chain[:, 1]*chain[:, 0] < 0\n",
    "print(sum(tmp))"
   ]
  },
  {
   "cell_type": "markdown",
   "metadata": {},
   "source": [
    "Compare with Simulation Using Default Prior Function"
   ]
  },
  {
   "cell_type": "code",
   "execution_count": 15,
   "metadata": {},
   "outputs": [
    {
     "name": "stdout",
     "output_type": "stream",
     "text": [
      "\n",
      "Sampling these parameters:\n",
      "      name      start [      min,       max] N(       mu,   sigma^2)\n",
      "         m:     -2.00 [     -inf,       inf] N( 0.00e+00,      inf)\n",
      "         b:     -2.00 [     -inf,       inf] N( 0.00e+00,      inf)\n",
      " [-----------------100%-----------------] 5000 of 5000 complete in 1.2 sec\n",
      "\n",
      "------------------------------\n",
      "name      :       mean        std     MC_err        tau     geweke\n",
      "m         :     2.0456     0.0301     0.0050    96.7168     0.9787\n",
      "b         :     2.8901     0.0775     0.0133   105.9057     0.9599\n",
      "------------------------------\n",
      "==============================\n",
      "Acceptance rate information\n",
      "---------------\n",
      "Results dictionary:\n",
      "Stage 1: 1.24%\n",
      "Stage 2: 1.98%\n",
      "Net    : 3.22% -> 161/5000\n",
      "---------------\n",
      "Chain provided:\n",
      "Net    : 1.24% -> 31/2500\n",
      "---------------\n",
      "Note, the net acceptance rate from the results dictionary\n",
      "may be different if you only provided a subset of the chain,\n",
      "e.g., removed the first part for burnin-in.\n",
      "------------------------------\n",
      "Number of accepted values that broken prior constrain: 100\n"
     ]
    }
   ],
   "source": [
    "# Initialize MCMC object\n",
    "mcstat = MCMC()\n",
    "# Add data\n",
    "mcstat.data.add_data_set(x, y)\n",
    "# Define simulation options and model settings\n",
    "mcstat.simulation_options.define_simulation_options(\n",
    "    nsimu=int(5.0e3),\n",
    "    updatesigma=True,\n",
    "    method='dram',\n",
    "    verbosity=1,\n",
    "    printint=100,\n",
    "    )\n",
    "mcstat.model_settings.define_model_settings(sos_function=test_ssfun)\n",
    "# Define model parameters\n",
    "mcstat.parameters.add_model_parameter(name='m', theta0=-2)\n",
    "mcstat.parameters.add_model_parameter(name='b', theta0=-2)\n",
    "# run simulation\n",
    "mcstat.run_simulation()\n",
    "# Extract results\n",
    "results = mcstat.simulation_results.results\n",
    "chain = results['chain']\n",
    "names = results['names']\n",
    "# define burnin\n",
    "burnin = int(results['nsimu']/2)\n",
    "# display chain statistics\n",
    "mcstat.chainstats(chain[burnin:, :], results)\n",
    "tmp = chain[:, 1]*chain[:, 0] < 0\n",
    "print('Number of accepted values that broken prior constrain: {}'.format(sum(tmp)))"
   ]
  },
  {
   "cell_type": "markdown",
   "metadata": {},
   "source": [
    "## Discussion\n",
    "The prior function successfully forced the simulation to reject proposed parameter sets that violated the condition, $\\theta_1\\times\\theta_2 >= 0$.  When using the default prior function, we see that many samples were in fact accepted.  This shows from a mechanistic standpoint, that the custom prior function is doing what we want it to.  That said, it must be noted that this solution is going to be specific to every problem, and it may impact your statistical model.  This is the simplest procedure for applying non-linear parameter constraints, but it should be used with caution."
   ]
  }
 ],
 "metadata": {
  "kernelspec": {
   "display_name": "Python 3",
   "language": "python",
   "name": "python3"
  },
  "language_info": {
   "codemirror_mode": {
    "name": "ipython",
    "version": 3
   },
   "file_extension": ".py",
   "mimetype": "text/x-python",
   "name": "python",
   "nbconvert_exporter": "python",
   "pygments_lexer": "ipython3",
   "version": "3.6.8"
  },
  "latex_envs": {
   "LaTeX_envs_menu_present": true,
   "autoclose": false,
   "autocomplete": true,
   "bibliofile": "biblio.bib",
   "cite_by": "apalike",
   "current_citInitial": 1,
   "eqLabelWithNumbers": true,
   "eqNumInitial": 1,
   "hotkeys": {
    "equation": "Ctrl-E",
    "itemize": "Ctrl-I"
   },
   "labels_anchors": false,
   "latex_user_defs": false,
   "report_style_numbering": true,
   "user_envs_cfg": false
  },
  "toc": {
   "base_numbering": 1,
   "nav_menu": {},
   "number_sections": true,
   "sideBar": true,
   "skip_h1_title": false,
   "title_cell": "Table of Contents",
   "title_sidebar": "Contents",
   "toc_cell": false,
   "toc_position": {},
   "toc_section_display": true,
   "toc_window_display": true
  }
 },
 "nbformat": 4,
 "nbformat_minor": 2
}
