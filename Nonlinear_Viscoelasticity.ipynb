{
 "cells": [
  {
   "cell_type": "markdown",
   "metadata": {},
   "source": [
    "## Non-Linear Viscoelastic Model\n",
    "The non-linear viscoelastic model has the final form\n",
    "$$Q = \\beta_{\\infty}\\Big(s_{\\infty} - \\frac{1}{\\gamma}\\frac{\\partial s_{\\infty}}{\\partial \\lambda}(\\beta_{\\infty}s_{\\infty} - G)\\Big)$$\n",
    "where\n",
    "$$\\dot{G} + \\frac{1}{\\tau}G=\\beta_{\\infty}\\frac{\\partial s_{\\infty}}{\\partial t}$$\n",
    "\n",
    "Details of this derivation can be found elsewhere:\n",
    "- Miles, Paul, Michael Hays, Ralph Smith, and William Oates. \"Bayesian uncertainty analysis of finite deformation viscoelasticity.\" Mechanics of Materials 91 (2015): 35-49. https://doi.org/10.1016/j.mechmat.2015.07.002"
   ]
  },
  {
   "cell_type": "code",
   "execution_count": 1,
   "metadata": {},
   "outputs": [],
   "source": [
    "def nonlinear_viscoelastic(theta, stretch_function, time):\n",
    "    # unpack model parameters\n",
    "    eta = theta['eta']\n",
    "    gamma = theta['gamma']\n",
    "    beta = theta['beta']\n",
    "\n",
    "    def nonlinear_function(t):\n",
    "        return nonaffine_hyperelastic(theta, stretch_function(t)).reshape(t.size,)\n",
    "\n",
    "    n = time.size\n",
    "    G = np.zeros([n,])\n",
    "    for kk in range(1,n):\n",
    "        dt = time[kk] - time[kk - 1]\n",
    "        Tnc = 1 - gamma*dt/(2 * eta);\n",
    "        Tpc = 1 + gamma*dt/(2 * eta);\n",
    "        Tpcinv = Tpc**(-1);\n",
    "        G[kk] = Tpcinv*(Tnc*G[kk - 1] + beta*(nonlinear_function(time[kk])\n",
    "                                              - nonlinear_function(time[kk-1])))\n",
    "    hyperelastic_stress = hm.nonaffine(theta, stretch_function(time))\n",
    "    dhypdx = hm.nonaffine_derivative_wrt_stretch(theta, stretch_function(time))\n",
    "    q = beta*(hyperelastic_stress - dhypdx/gamma*(beta*hyperelastic_stress - G))\n",
    "    return q"
   ]
  },
  {
   "cell_type": "code",
   "execution_count": null,
   "metadata": {},
   "outputs": [],
   "source": []
  }
 ],
 "metadata": {
  "kernelspec": {
   "display_name": "Python 3",
   "language": "python",
   "name": "python3"
  },
  "language_info": {
   "codemirror_mode": {
    "name": "ipython",
    "version": 3
   },
   "file_extension": ".py",
   "mimetype": "text/x-python",
   "name": "python",
   "nbconvert_exporter": "python",
   "pygments_lexer": "ipython3",
   "version": "3.7.2"
  },
  "latex_envs": {
   "LaTeX_envs_menu_present": true,
   "autoclose": false,
   "autocomplete": true,
   "bibliofile": "biblio.bib",
   "cite_by": "apalike",
   "current_citInitial": 1,
   "eqLabelWithNumbers": true,
   "eqNumInitial": 1,
   "hotkeys": {
    "equation": "Ctrl-E",
    "itemize": "Ctrl-I"
   },
   "labels_anchors": false,
   "latex_user_defs": false,
   "report_style_numbering": true,
   "user_envs_cfg": false
  },
  "toc": {
   "base_numbering": 1,
   "nav_menu": {},
   "number_sections": true,
   "sideBar": true,
   "skip_h1_title": false,
   "title_cell": "Table of Contents",
   "title_sidebar": "Contents",
   "toc_cell": false,
   "toc_position": {},
   "toc_section_display": true,
   "toc_window_display": false
  }
 },
 "nbformat": 4,
 "nbformat_minor": 2
}
